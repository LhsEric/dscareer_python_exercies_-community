{
  "nbformat": 4,
  "nbformat_minor": 0,
  "metadata": {
    "colab": {
      "provenance": [],
      "authorship_tag": "ABX9TyPvOawAwSRSXYGxRYDTH7TD",
      "include_colab_link": true
    },
    "kernelspec": {
      "name": "python3",
      "display_name": "Python 3"
    },
    "language_info": {
      "name": "python"
    }
  },
  "cells": [
    {
      "cell_type": "markdown",
      "metadata": {
        "id": "view-in-github",
        "colab_type": "text"
      },
      "source": [
        "<a href=\"https://colab.research.google.com/github/LhsEric/dscareer_python_exercies_community/blob/main/Task_04_%E4%BD%9C%E6%A5%AD_01%E5%AD%97%E4%B8%B2%E7%9A%84%E4%BD%8D%E7%BD%AE%E5%88%86%E4%BD%88.ipynb\" target=\"_parent\"><img src=\"https://colab.research.google.com/assets/colab-badge.svg\" alt=\"Open In Colab\"/></a>"
      ]
    },
    {
      "cell_type": "markdown",
      "source": [
        "# **字串的位置分佈**\n",
        "\n",
        "- Requirements：\n",
        "    1. 讓使用可以輸入一個字串 S\n",
        "    2. 去計算字串中每個字母所出現的位置並且存入一個 list\n",
        "    3. 將出現字母當作 key、出現位置所組成的 list 組裝成一個 dict 後印出\n",
        "    4. Sample Input #01：Here are UPPERCASE and lowercase chars. ← 使用者輸入\n",
        "    5. Sample Output #01：{'H': [1], 'n': [21], 'o': [25], 'U': [10], 'r': [3, 7, 28, 37], 'l': [24], 's': [31, 38], 'c': [29, 34], 'e': [2, 4, 8, 27, 32], 'S': [17], ' ': [5, 9, 19, 23, 33], 'a': [6, 20, 30, 36], 'R': [14], 'w': [26], '.': [39], 'h': [35], 'E': [13, 18], 'd': [22], 'P': [11, 12], 'A': [16], 'C': [15]} ← 畫面輸出\n",
        "    - 自己的解法 （Index 從 0 開始算 所以index 要加 1 ）"
      ],
      "metadata": {
        "id": "UZefpXjIQCca"
      }
    },
    {
      "cell_type": "code",
      "execution_count": null,
      "metadata": {
        "id": "JsLo1swlP-75"
      },
      "outputs": [],
      "source": [
        "s = 'Here are UPPERCASE and lowercase chars.'\n",
        "\n",
        "char_indices = {}\n",
        "\n",
        "for index, char in enumerate(s):\n",
        "    if char in char_indices:\n",
        "        char_indices[char].append(index+1)\n",
        "    else:\n",
        "        char_indices[char] = [index+1]\n",
        "\n",
        "\n",
        "for char, indices in char_indices.items():\n",
        "    print(f\"{char}: {indices}\")"
      ]
    }
  ]
}