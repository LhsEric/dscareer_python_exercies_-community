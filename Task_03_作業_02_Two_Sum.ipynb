{
  "nbformat": 4,
  "nbformat_minor": 0,
  "metadata": {
    "colab": {
      "provenance": [],
      "authorship_tag": "ABX9TyPGhzygyisbZb2uCD1Ran0R",
      "include_colab_link": true
    },
    "kernelspec": {
      "name": "python3",
      "display_name": "Python 3"
    },
    "language_info": {
      "name": "python"
    }
  },
  "cells": [
    {
      "cell_type": "markdown",
      "metadata": {
        "id": "view-in-github",
        "colab_type": "text"
      },
      "source": [
        "<a href=\"https://colab.research.google.com/github/LhsEric/dscareer_python_exercies_community/blob/main/Task_03_%E4%BD%9C%E6%A5%AD_02_Two_Sum.ipynb\" target=\"_parent\"><img src=\"https://colab.research.google.com/assets/colab-badge.svg\" alt=\"Open In Colab\"/></a>"
      ]
    },
    {
      "cell_type": "markdown",
      "source": [
        "# **Two Sum**\n",
        "\n",
        "- Requirements：\n",
        "    1. 預設題目會提供兩個變數 nums 列表和 target 整數\n",
        "    2. 請找出 nums 中兩數和為 target 值的 index 並存放在列表後印出\n",
        "    - 自己的解法\n",
        "        - 問題\n",
        "            - 當列表中有重複的數字時，**`nums.index(x)`** 只會返回第一次出現的索引\n",
        "            - 內嵌的兩層循環會重複考慮相同的元素組合\n",
        "            - 程式碼"
      ],
      "metadata": {
        "id": "tkDlLxf6Pliz"
      }
    },
    {
      "cell_type": "code",
      "source": [
        "# 修改前\n",
        "\n",
        "nums = [15,11,7,2]\n",
        "target = 9\n",
        "\n",
        "\n",
        "for i in nums:\n",
        "    for x in nums:\n",
        "        if x+i == target:\n",
        "            print(\"序列為：\", nums.index(x))"
      ],
      "metadata": {
        "id": "mllvef8zPww1"
      },
      "execution_count": null,
      "outputs": []
    },
    {
      "cell_type": "code",
      "execution_count": null,
      "metadata": {
        "id": "k9_Fo5KqPdKs"
      },
      "outputs": [],
      "source": [
        "# 修改後\n",
        "nums = [15, 11, 7, 2]\n",
        "target = 9\n",
        "\n",
        "# 使用一個集合來存儲已經處理過的數字\n",
        "seen = set()\n",
        "\n",
        "# 遍歷 nums 列表中的每個數字 i\n",
        "for i in nums:\n",
        "    # 計算補數　target 減掉 i 的差，在 complement中則找到 2 個數字\n",
        "    complement = target - i\n",
        "\n",
        "    # 如果補數在已經處理過的數字集合中，說明找到了這對數字\n",
        "    if complement in seen:\n",
        "        # 打印這對數字的索引\n",
        "        print(\"序列為：\", [nums.index(complement), nums.index(i)])\n",
        "\n",
        "    # 將當前數字添加到已經處理過的數字集合中\n",
        "    seen.add(i)"
      ]
    }
  ]
}