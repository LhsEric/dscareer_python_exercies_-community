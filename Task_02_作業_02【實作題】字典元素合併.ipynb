{
  "nbformat": 4,
  "nbformat_minor": 0,
  "metadata": {
    "colab": {
      "provenance": [],
      "authorship_tag": "ABX9TyMrE8Dq8BPBf9EhwkyGRInA",
      "include_colab_link": true
    },
    "kernelspec": {
      "name": "python3",
      "display_name": "Python 3"
    },
    "language_info": {
      "name": "python"
    }
  },
  "cells": [
    {
      "cell_type": "markdown",
      "metadata": {
        "id": "view-in-github",
        "colab_type": "text"
      },
      "source": [
        "<a href=\"https://colab.research.google.com/github/LhsEric/dscareer_python_exercies_community/blob/main/Task_02_%E4%BD%9C%E6%A5%AD_02%E3%80%90%E5%AF%A6%E4%BD%9C%E9%A1%8C%E3%80%91%E5%AD%97%E5%85%B8%E5%85%83%E7%B4%A0%E5%90%88%E4%BD%B5.ipynb\" target=\"_parent\"><img src=\"https://colab.research.google.com/assets/colab-badge.svg\" alt=\"Open In Colab\"/></a>"
      ]
    },
    {
      "cell_type": "markdown",
      "source": [
        "# **字典元素合併**\n",
        "\n",
        "- 在 Python3.9+ 版本的有一種新的字典運算「|」，可以用來將多個字典內的元素合併。那想請問你的是，在 Python3.9 版本以前，我們可以怎麼將多個字典合併成一個新的字典呢？\n",
        "- Requirements：\n",
        "    - 利用程式將多個字典內的元素合併成一個新的字典\n",
        "    - 合併過程中請勿直接使用「|」運算\n",
        "    - Sample Input #1: {1:10, 2:20}、{3:30, 4:40}、{5:50, 6:60} ← 預設初始化\n",
        "    - Sample Output #1: {1: 10, 2: 20, 3: 30, 4: 40, 5: 50, 6: 60} ← 畫面輸出"
      ],
      "metadata": {
        "id": "r6y_-_c_OkKw"
      }
    },
    {
      "cell_type": "code",
      "execution_count": null,
      "metadata": {
        "id": "dcN6koZEONOM"
      },
      "outputs": [],
      "source": [
        "dic1 = {1:10, 2:20}\n",
        "dic2 = {3:30, 4:40}\n",
        "dic3 = {5:50, 6:60}\n",
        "\n",
        "d = dic1\n",
        "d.update(dic2)\n",
        "d.update(dic3)"
      ]
    }
  ]
}