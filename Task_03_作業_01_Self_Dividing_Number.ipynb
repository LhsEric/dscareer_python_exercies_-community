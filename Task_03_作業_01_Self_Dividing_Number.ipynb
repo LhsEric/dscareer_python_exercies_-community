{
  "nbformat": 4,
  "nbformat_minor": 0,
  "metadata": {
    "colab": {
      "provenance": [],
      "authorship_tag": "ABX9TyMQB+3wiYGO8GvE+dMRQ2Jw",
      "include_colab_link": true
    },
    "kernelspec": {
      "name": "python3",
      "display_name": "Python 3"
    },
    "language_info": {
      "name": "python"
    }
  },
  "cells": [
    {
      "cell_type": "markdown",
      "metadata": {
        "id": "view-in-github",
        "colab_type": "text"
      },
      "source": [
        "<a href=\"https://colab.research.google.com/github/LhsEric/dscareer_python_exercies_community/blob/main/Task_03_%E4%BD%9C%E6%A5%AD_01_Self_Dividing_Number.ipynb\" target=\"_parent\"><img src=\"https://colab.research.google.com/assets/colab-badge.svg\" alt=\"Open In Colab\"/></a>"
      ]
    },
    {
      "cell_type": "markdown",
      "source": [],
      "metadata": {
        "id": "-HhFMxmhO0fS"
      }
    },
    {
      "cell_type": "code",
      "execution_count": null,
      "metadata": {
        "id": "ScR3wr37OxYS"
      },
      "outputs": [],
      "source": [
        "Self-Dividing Number\n",
        "- 練習：Self-Dividing Number（自除數）指的是可以被每位數的數字整除的數，例如，128 可以同時被 1、2、8 分別整除即符合。本題請根據輸入的上下邊界，找出該區間內的 Self-Dividing Number 中哪兩個數之間的差距最大。舉個例子，假如從 11 - 20 符合的數有：11、12、15，其中 11 跟 12 的差距等於 1、12 跟 15 的差距等於 3，因此差距最大是 12 跟 15。\n",
        "    - Requirements：\n",
        "        - 讓使用者輸入兩個數字，代表一個區間\n",
        "        - 請利用程式找出該區間中符合 Self-Dividing Number 的所有數\n",
        "        - 將差距最大的 Self-Dividing Number 相鄰兩數印出\n",
        "            - Sample Input #1: 11, 20 ← 使用者輸入\n",
        "            - Sample Output #1: (12, 15) ← 畫面輸出\n",
        "            - Sample Input #2: 100, 900 ← 使用者輸入\n",
        "            - Sample Output #2: (555, 612) ← 畫面輸出"
      ]
    },
    {
      "cell_type": "code",
      "source": [
        " \"是否是自除數\"\n",
        "def self_dividing(num):\n",
        "    temp = num\n",
        "    while temp > 0:\n",
        "        digit = temp % 10 # 捉取最後一個數字，128 中的 8。\n",
        "        if digit == 0 or num % digit != 0: # 檢查是吾能整除 num 的數字\n",
        "            return False # 非自除數\n",
        "        temp = temp//10  # 把 128 變成 12。\n",
        "    return True\n",
        "\n",
        "\"找出在左右邊界之間的 Self-Dividing Number 的最大差距\"\n",
        "def max_self_dividing(left, right):\n",
        "    dividings = [] # 創立一個 list\n",
        "    for i in range(left, right+1): # range 不包括終止值 2至5 = (2, 3, 4)\n",
        "                                   # 創造一個 for loop, left = 12, right = 15\n",
        "        if self_dividing(i):       # 檢查是否自除數\n",
        "            dividings.append(i)    # 如果是，加入 list\n",
        "\n",
        "    max_diff = 0\n",
        "    max_diff_pair = None # Tuple\n",
        "    # 最大差距\n",
        "    #\n",
        "    for i in range(len(dividings)-1):                  # 減少訪問１個對象，保證在訪問 dividings[i+1] 時不會超出範圍，後績程式碼已完整跑完一輪。\n",
        "      if dividings[i+1] - dividings[i] > max_diff:     # 計算第２個跟第１個的差，比較最大的max_diff，如果沒有比較大，放進max_diff_pair\n",
        "        max_diff_pair = (dividings[i], dividings[i+1]) # 儲存到 max_diff_pair\n",
        "        max_diff = dividings[i+1] - dividings[i]       # 計算第２個跟第１個的差放進 max_diff\n",
        "    return max_diff_pair\n",
        "\n",
        "\n",
        "a, b = int(input()), int(input())\n",
        "max_diff_pair = max_self_dividing(a, b)\n",
        "\n",
        "\n",
        "print(f\"差距最大的 Self-Dividing Number 是 {max_diff_pair[0]} 與 {max_diff_pair[1]}，差距為 {max_diff_pair[1] - max_diff_pair[0]}\")"
      ],
      "metadata": {
        "id": "QpksL48uPO3k"
      },
      "execution_count": null,
      "outputs": []
    }
  ]
}