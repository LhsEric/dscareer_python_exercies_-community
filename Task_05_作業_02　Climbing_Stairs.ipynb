{
  "nbformat": 4,
  "nbformat_minor": 0,
  "metadata": {
    "colab": {
      "provenance": [],
      "authorship_tag": "ABX9TyMrdFup02xK5ppYTGaheqaa",
      "include_colab_link": true
    },
    "kernelspec": {
      "name": "python3",
      "display_name": "Python 3"
    },
    "language_info": {
      "name": "python"
    }
  },
  "cells": [
    {
      "cell_type": "markdown",
      "metadata": {
        "id": "view-in-github",
        "colab_type": "text"
      },
      "source": [
        "<a href=\"https://colab.research.google.com/github/LhsEric/dscareer_python_exercies_community/blob/main/Task_05_%E4%BD%9C%E6%A5%AD_02%E3%80%80Climbing_Stairs.ipynb\" target=\"_parent\"><img src=\"https://colab.research.google.com/assets/colab-badge.svg\" alt=\"Open In Colab\"/></a>"
      ]
    },
    {
      "cell_type": "markdown",
      "source": [
        "# Climbing Stairs\n",
        "\n",
        "- 練習：You are climbing a staircase. It takes n steps to reach the top. Each time you can either climb 1 or 2 steps. In how many distinct ways can you climb to the top?\n",
        "- Requirements：\n",
        "    - 讓使用者輸入一個數字 n ，代表需要爬到的階層數量\n",
        "    - 每次可以往上移動一階或兩階，計算爬到 n 階有幾種可能的走法"
      ],
      "metadata": {
        "id": "XX9fuoG7QtyL"
      }
    },
    {
      "cell_type": "code",
      "execution_count": null,
      "metadata": {
        "id": "mfx7A4UVQsa7"
      },
      "outputs": [],
      "source": [
        "# 自己解\n",
        "def climb_stairs(n):\n",
        "    if n <= 2:\n",
        "        return n\n",
        "\n",
        "    # 創建 array 儲存有多少種方法\n",
        "    dp = [0] * (n + 1)\n",
        "\n",
        "    # 基本\n",
        "    dp[1] = 1\n",
        "    dp[2] = 2\n",
        "\n",
        "    # 透過recusive運算,並放進 dp的 array\n",
        "    for i in range(3, n + 1):\n",
        "        dp[i] = dp[i - 1] + dp[i - 2]\n",
        "\n",
        "    return dp[n]\n",
        "\n",
        "n = int(input(\"讓使用者輸入一個數字代表需要爬到的階層數量： \"))\n",
        "\n",
        "print(f\"這裡有 {climb_stairs(n)} 方法爬到最高.\")"
      ]
    },
    {
      "cell_type": "code",
      "source": [
        "# 解法（一）\n",
        "\n",
        "n = int(input(\"讓使用者輸入一個數字代表需要爬到的階層數量： \"))\n",
        "\n",
        "def climbStairs(n: int) -> int: # 接收一個整數參數 n，並返回一個整數結果\n",
        "  W = [0, 1, 2] # W[0] = 0（沒有這樣的情況，實際上用不到）\n",
        "                # W[1] = 1（爬到第一階有1種方法）\n",
        "                # W[2] = 2（爬到第二階有2種方法）\n",
        "  if len(W) < n+1: # 檢查是否 「0階」、「1階」、「2階」的選擇\n",
        "      return climbStairs(n - 2) + climbStairs(n - 1);\n",
        "                                  #遞迴調用 climbStairs(n - 2) 和 climbStairs(n - 1) 並返回它們的和。\n",
        "                                  #這代表爬到第 n 階的方法數是爬到第 n-1 階的方法數加上爬到第 n−2 階的方法數。\n",
        "  return W[n];\n",
        "\n",
        "print(f\"這裡有 {climbStairs(n)} 方法爬到最高.\")"
      ],
      "metadata": {
        "id": "zcN8_6cyQxdv"
      },
      "execution_count": null,
      "outputs": []
    }
  ]
}