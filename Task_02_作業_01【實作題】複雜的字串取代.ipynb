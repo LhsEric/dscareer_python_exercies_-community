{
  "nbformat": 4,
  "nbformat_minor": 0,
  "metadata": {
    "colab": {
      "provenance": [],
      "authorship_tag": "ABX9TyPYD4UZagi/MAaWNqLacwTL",
      "include_colab_link": true
    },
    "kernelspec": {
      "name": "python3",
      "display_name": "Python 3"
    },
    "language_info": {
      "name": "python"
    }
  },
  "cells": [
    {
      "cell_type": "markdown",
      "metadata": {
        "id": "view-in-github",
        "colab_type": "text"
      },
      "source": [
        "<a href=\"https://colab.research.google.com/github/LhsEric/dscareer_python_exercies_community/blob/main/Task_02_%E4%BD%9C%E6%A5%AD_01%E3%80%90%E5%AF%A6%E4%BD%9C%E9%A1%8C%E3%80%91%E8%A4%87%E9%9B%9C%E7%9A%84%E5%AD%97%E4%B8%B2%E5%8F%96%E4%BB%A3.ipynb\" target=\"_parent\"><img src=\"https://colab.research.google.com/assets/colab-badge.svg\" alt=\"Open In Colab\"/></a>"
      ]
    },
    {
      "cell_type": "code",
      "source": [
        "# **複雜的字串取代**\n",
        "\n",
        "- Requirements：\n",
        "    - 讓使用者輸入一個字串 s\n",
        "    - 利用程式將字串中出現的 not … at all 取代成 good 後輸出（Note: 可以假設字串中最多只會出現一次 not ... at all）\n",
        "        - Sample Input #1: This company is not poor at all. ← 使用者輸入\n",
        "        - Sample Output #1: This company is good. ← 畫面輸出\n",
        "        - Sample Input #2: I'm not at all happy about it. ← 使用者輸入\n",
        "        - Sample Output #2: I'm good happy about it. ← 畫面輸出"
      ],
      "metadata": {
        "id": "XLC7ohQJN3E0"
      },
      "execution_count": null,
      "outputs": []
    },
    {
      "cell_type": "markdown",
      "source": [],
      "metadata": {
        "id": "FPBCT5jlN3VO"
      }
    },
    {
      "cell_type": "code",
      "source": [
        "def replace_not_at_all(s):\n",
        "    index_not = s.find(\"not\") # 找到 \"not\" 的索引位置\n",
        "    index_at_all = s.find(\"at all\") # 找到 \"at all\" 的索引位置\n",
        "\n",
        "    if index_not != -1 and index_at_all != -1: # 確保字串中包含 \"not\" 和 \"at all\"\n",
        "    　　s = s[:index_not] + \"good\" + s[index_at_all + len(\"at all\"):]\n",
        "    　　# 將 \"not ... at all\" 取代成 \"good\"\n",
        "    return s\n",
        "\n",
        "s = input(\"Input：\")\n",
        "result = replace_not_at_all(s)\n",
        "print(\"Output：\", result)"
      ],
      "metadata": {
        "id": "W-V9kkczN5H5"
      },
      "execution_count": null,
      "outputs": []
    }
  ]
}