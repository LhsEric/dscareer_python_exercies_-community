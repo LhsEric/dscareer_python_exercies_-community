{
  "nbformat": 4,
  "nbformat_minor": 0,
  "metadata": {
    "colab": {
      "provenance": [],
      "authorship_tag": "ABX9TyPot/bGfIOJPFWzaDU5g9HW",
      "include_colab_link": true
    },
    "kernelspec": {
      "name": "python3",
      "display_name": "Python 3"
    },
    "language_info": {
      "name": "python"
    }
  },
  "cells": [
    {
      "cell_type": "markdown",
      "metadata": {
        "id": "view-in-github",
        "colab_type": "text"
      },
      "source": [
        "<a href=\"https://colab.research.google.com/github/LhsEric/dscareer_python_exercies_community/blob/main/Task_05_%E4%BD%9C%E6%A5%AD_01_%E4%B8%8D%E9%87%8D%E8%A4%87%E7%9A%84%E6%8E%92%E5%88%97%E7%B5%84%E5%90%88.ipynb\" target=\"_parent\"><img src=\"https://colab.research.google.com/assets/colab-badge.svg\" alt=\"Open In Colab\"/></a>"
      ]
    },
    {
      "cell_type": "markdown",
      "source": [
        "# **不重複的排列組合**\n",
        "\n",
        "#練習：請根據使用者的輸入的字串，產生不重複的排列組合。\n",
        "\n",
        "- Requirements：\n",
        "    1. 讓使用者重複輸入字串，取出字串中出現過哪些字母\n",
        "    2. 計算由這些字母所組成的所有排列組合存入列表\n",
        "    3. 每回合將列表內的字串依照字母排序後印出\n",
        "- 自己的解法 ："
      ],
      "metadata": {
        "id": "VEoIoTXdQinO"
      }
    },
    {
      "cell_type": "code",
      "execution_count": null,
      "metadata": {
        "id": "vyTzlXuKQgyf"
      },
      "outputs": [],
      "source": [
        "import itertools\n",
        "s = input()\n",
        "\n",
        "all_permutations = list(itertools.permutations(s))\n",
        "\n",
        "print(\"所有的排列:\")\n",
        "result = [''.join(p) for p in all_permutations]\n",
        "\n",
        "print(result)"
      ]
    }
  ]
}